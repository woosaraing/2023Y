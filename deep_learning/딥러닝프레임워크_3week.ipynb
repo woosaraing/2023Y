{
  "nbformat": 4,
  "nbformat_minor": 0,
  "metadata": {
    "colab": {
      "provenance": []
    },
    "kernelspec": {
      "name": "python3",
      "display_name": "Python 3"
    },
    "language_info": {
      "name": "python"
    }
  },
  "cells": [
    {
      "cell_type": "markdown",
      "source": [
        "#### TEST\n",
        "\n",
        "1. 단위 테스트\n",
        "\n",
        "테스트 단위의 크기를 작게 설정해서 최대한 간단하게 작성함. & TDD와 결합시 강력\n",
        "\n",
        "2. 통합 테스트\n",
        "\n",
        "모듈의 여러개를 합쳐 의도대로 동작하는지 확인하는 것 & 어려운 버그를 찾을 수 있는 장점\n",
        "\n",
        "하지만 어디서 에러가 발생했는 지 확인하기 어렵다는 단점"
      ],
      "metadata": {
        "id": "CcSBcNdps-rO"
      }
    },
    {
      "cell_type": "markdown",
      "source": [
        "### 단위 테스트\n",
        "\n",
        "unit test 라이브러리 사용\n",
        "\n",
        "test시 test로 시작하는 메서드를 만듬(규칙)\n"
      ],
      "metadata": {
        "id": "lncRVz4ssOcA"
      }
    },
    {
      "cell_type": "code",
      "execution_count": 10,
      "metadata": {
        "id": "bniA9MkkrYD1"
      },
      "outputs": [],
      "source": [
        "import unittest\n",
        "import numpy as np\n",
        "\n",
        "class SquareTest(unittest.TestCase):\n",
        "  def test_forward(self):\n",
        "    x = Variable(np.array(2.0))\n",
        "    y = square(x)\n",
        "    expected = np.array(4.0)\n",
        "    self.assertEqual(y.data, expected)"
      ]
    },
    {
      "cell_type": "markdown",
      "source": [
        "### Square 역전파 테스트\n",
        "\n",
        ": test backward 메서드 추가\n",
        "\n",
        "backward를 이용하여 미분 값 -> 기대 값 일치 확인"
      ],
      "metadata": {
        "id": "iVsNtzk6thIg"
      }
    },
    {
      "cell_type": "markdown",
      "source": [
        "## 자동 테스트\n",
        ": 기울기 확인을 이용\n",
        "\n",
        "수치 미분과 역전파 비교 -> 차이 ↑(역전파 구현 문제)"
      ],
      "metadata": {
        "id": "3yKI3OIKtwIz"
      }
    },
    {
      "cell_type": "code",
      "source": [
        "def numerical_diff(f, x, eps = 1e-4):\n",
        "  x0 = Variable(x.data - eps)\n",
        "  x1 = Variable(x.data + eps)\n",
        "  y0 = f(x0)\n",
        "  y1 = f(x1)\n",
        "  return (y1.data - y0.data) / (2 * eps)"
      ],
      "metadata": {
        "id": "SST2Siuas3ys"
      },
      "execution_count": 11,
      "outputs": []
    },
    {
      "cell_type": "code",
      "source": [
        "def test_gradient_check(self):\n",
        "  x = Variable(np.random.rand(1))\n",
        "  y = square(x)\n",
        "  y.backward()\n",
        "  num_grad = numberical_diff(square, x)\n",
        "  flg = np.allclose(x.grad, num_grad)\n",
        "  self.assertTrue(flg)"
      ],
      "metadata": {
        "id": "Q42lCJv8uY-5"
      },
      "execution_count": 12,
      "outputs": []
    },
    {
      "cell_type": "markdown",
      "source": [
        "### 가변 길이 인수(순전파)\n",
        ": 많은 variable 입력 가능\n",
        "\n",
        ": 부모 creator 필요"
      ],
      "metadata": {
        "id": "ndlCo3lOuxvL"
      }
    },
    {
      "cell_type": "code",
      "source": [
        "class Variable:\n",
        "  def __init__(self, data):\n",
        "    self.data = data\n",
        "    self.grad = None\n",
        "    self.creator = None\n",
        "\n",
        "def as_array(x):\n",
        "    if np.isscalar(x):\n",
        "        return np.array(x)\n",
        "    return x\n",
        "\n",
        "def set_creator(self, func):\n",
        "  self.creator = func\n",
        "\n",
        "def backward(self):\n",
        "  if self.grad is None:\n",
        "    self.grad = np.ones_like(self.data)\n",
        "\n",
        "    funcs = [self.creator]\n",
        "    while funcs:\n",
        "      f = funcs.pop()\n",
        "      x, y = f.input, f.output\n",
        "      x.grad = f.backward(y.grad)\n",
        "\n",
        "      if x.creator is not None:\n",
        "        funcs.append(x.creator)"
      ],
      "metadata": {
        "id": "YlHUIe8QyAtz"
      },
      "execution_count": 48,
      "outputs": []
    },
    {
      "cell_type": "code",
      "source": [
        "class Function:\n",
        "  def __call__(self, inputs):\n",
        "    xs = [x.data for x in inputs]\n",
        "    ys = self.forward(xs) # *추가\n",
        "    if not isinstance(ys, tuple):\n",
        "      ys = (ys,)\n",
        "    outputs = [Variable(as_array(y)) for y in ys]\n",
        "\n",
        "    for output in outputs:\n",
        "      output.set_creator(self) #부모 creator 지정\n",
        "    self.inputs = inputs\n",
        "    self.outputs = outputs\n",
        "    return outputs\n",
        "\n",
        "  def forward(self, x):\n",
        "    raise NotImplementedError()\n",
        "\n",
        "  def backward(self, gy):\n",
        "    raise NotImplementedError()"
      ],
      "metadata": {
        "id": "R_linQedvEJI"
      },
      "execution_count": 49,
      "outputs": []
    },
    {
      "cell_type": "code",
      "source": [
        "class Add(Function):\n",
        "  def forward(self, xs):\n",
        "    # y = x0 + x1\n",
        "    # return y\n",
        "    x0, x1 = xs\n",
        "    y = x0 + x1\n",
        "    return (y, )"
      ],
      "metadata": {
        "id": "xLaXbPT2vuAJ"
      },
      "execution_count": 50,
      "outputs": []
    },
    {
      "cell_type": "code",
      "source": [
        "xs = [Variable(np.array(2)), Variable(np.array(3))]\n",
        "f = Add()\n",
        "ys = f(xs)\n",
        "y = ys[0]\n",
        "print(y.data)"
      ],
      "metadata": {
        "colab": {
          "base_uri": "https://localhost:8080/",
          "height": 346
        },
        "id": "kZy1yNmdv9zF",
        "outputId": "b2e465b4-d8a1-42d9-9b0b-bb4bab356741"
      },
      "execution_count": 51,
      "outputs": [
        {
          "output_type": "error",
          "ename": "AttributeError",
          "evalue": "'Variable' object has no attribute 'set_creator'",
          "traceback": [
            "\u001b[0;31m---------------------------------------------------------------------------\u001b[0m",
            "\u001b[0;31mAttributeError\u001b[0m                            Traceback (most recent call last)",
            "\u001b[0;32m<ipython-input-51-372481d8c0bc>\u001b[0m in \u001b[0;36m<cell line: 3>\u001b[0;34m()\u001b[0m\n\u001b[1;32m      1\u001b[0m \u001b[0mxs\u001b[0m \u001b[0;34m=\u001b[0m \u001b[0;34m[\u001b[0m\u001b[0mVariable\u001b[0m\u001b[0;34m(\u001b[0m\u001b[0mnp\u001b[0m\u001b[0;34m.\u001b[0m\u001b[0marray\u001b[0m\u001b[0;34m(\u001b[0m\u001b[0;36m2\u001b[0m\u001b[0;34m)\u001b[0m\u001b[0;34m)\u001b[0m\u001b[0;34m,\u001b[0m \u001b[0mVariable\u001b[0m\u001b[0;34m(\u001b[0m\u001b[0mnp\u001b[0m\u001b[0;34m.\u001b[0m\u001b[0marray\u001b[0m\u001b[0;34m(\u001b[0m\u001b[0;36m3\u001b[0m\u001b[0;34m)\u001b[0m\u001b[0;34m)\u001b[0m\u001b[0;34m]\u001b[0m\u001b[0;34m\u001b[0m\u001b[0;34m\u001b[0m\u001b[0m\n\u001b[1;32m      2\u001b[0m \u001b[0mf\u001b[0m \u001b[0;34m=\u001b[0m \u001b[0mAdd\u001b[0m\u001b[0;34m(\u001b[0m\u001b[0;34m)\u001b[0m\u001b[0;34m\u001b[0m\u001b[0;34m\u001b[0m\u001b[0m\n\u001b[0;32m----> 3\u001b[0;31m \u001b[0mys\u001b[0m \u001b[0;34m=\u001b[0m \u001b[0mf\u001b[0m\u001b[0;34m(\u001b[0m\u001b[0mxs\u001b[0m\u001b[0;34m)\u001b[0m\u001b[0;34m\u001b[0m\u001b[0;34m\u001b[0m\u001b[0m\n\u001b[0m\u001b[1;32m      4\u001b[0m \u001b[0my\u001b[0m \u001b[0;34m=\u001b[0m \u001b[0mys\u001b[0m\u001b[0;34m[\u001b[0m\u001b[0;36m0\u001b[0m\u001b[0;34m]\u001b[0m\u001b[0;34m\u001b[0m\u001b[0;34m\u001b[0m\u001b[0m\n\u001b[1;32m      5\u001b[0m \u001b[0mprint\u001b[0m\u001b[0;34m(\u001b[0m\u001b[0my\u001b[0m\u001b[0;34m.\u001b[0m\u001b[0mdata\u001b[0m\u001b[0;34m)\u001b[0m\u001b[0;34m\u001b[0m\u001b[0;34m\u001b[0m\u001b[0m\n",
            "\u001b[0;32m<ipython-input-49-db325f369f0a>\u001b[0m in \u001b[0;36m__call__\u001b[0;34m(self, inputs)\u001b[0m\n\u001b[1;32m      8\u001b[0m \u001b[0;34m\u001b[0m\u001b[0m\n\u001b[1;32m      9\u001b[0m     \u001b[0;32mfor\u001b[0m \u001b[0moutput\u001b[0m \u001b[0;32min\u001b[0m \u001b[0moutputs\u001b[0m\u001b[0;34m:\u001b[0m\u001b[0;34m\u001b[0m\u001b[0;34m\u001b[0m\u001b[0m\n\u001b[0;32m---> 10\u001b[0;31m       \u001b[0moutput\u001b[0m\u001b[0;34m.\u001b[0m\u001b[0mset_creator\u001b[0m\u001b[0;34m(\u001b[0m\u001b[0mself\u001b[0m\u001b[0;34m)\u001b[0m \u001b[0;31m#부모 creator 지정\u001b[0m\u001b[0;34m\u001b[0m\u001b[0;34m\u001b[0m\u001b[0m\n\u001b[0m\u001b[1;32m     11\u001b[0m     \u001b[0mself\u001b[0m\u001b[0;34m.\u001b[0m\u001b[0minputs\u001b[0m \u001b[0;34m=\u001b[0m \u001b[0minputs\u001b[0m\u001b[0;34m\u001b[0m\u001b[0;34m\u001b[0m\u001b[0m\n\u001b[1;32m     12\u001b[0m     \u001b[0mself\u001b[0m\u001b[0;34m.\u001b[0m\u001b[0moutputs\u001b[0m \u001b[0;34m=\u001b[0m \u001b[0moutputs\u001b[0m\u001b[0;34m\u001b[0m\u001b[0;34m\u001b[0m\u001b[0m\n",
            "\u001b[0;31mAttributeError\u001b[0m: 'Variable' object has no attribute 'set_creator'"
          ]
        }
      ]
    },
    {
      "cell_type": "markdown",
      "source": [
        "### Function 클래스 수정\n",
        "\n",
        ": Add -> add 함수로 변경\n",
        "\n",
        ": 함수 호출 시 * 사용(리스트를 다 풀어줌)"
      ],
      "metadata": {
        "id": "bBEtFe6ozJAa"
      }
    },
    {
      "cell_type": "code",
      "source": [
        "class Add(Function):\n",
        "  def forward(self, x0, x1):\n",
        "    y = x0 + x1\n",
        "    return y\n",
        "\n",
        "  def backward(self, gy):\n",
        "    return gy, gy"
      ],
      "metadata": {
        "id": "E72xAWr04ltO"
      },
      "execution_count": 55,
      "outputs": []
    },
    {
      "cell_type": "code",
      "source": [
        "def add(x0, x1):\n",
        "  return Add()(x0, x1)"
      ],
      "metadata": {
        "id": "ceAJhaLg4zOj"
      },
      "execution_count": 56,
      "outputs": []
    },
    {
      "cell_type": "code",
      "source": [
        "x0 = Variable(np.array(2))\n",
        "x1 = Variable(np.array(3))\n",
        "y = add(x0, x1)\n",
        "print(y.data)"
      ],
      "metadata": {
        "colab": {
          "base_uri": "https://localhost:8080/",
          "height": 273
        },
        "id": "QX4SIe-5y7kW",
        "outputId": "8daa1727-fe49-42aa-a35a-44ae4c4fcb1e"
      },
      "execution_count": 58,
      "outputs": [
        {
          "output_type": "error",
          "ename": "TypeError",
          "evalue": "Function.__call__() takes 2 positional arguments but 3 were given",
          "traceback": [
            "\u001b[0;31m---------------------------------------------------------------------------\u001b[0m",
            "\u001b[0;31mTypeError\u001b[0m                                 Traceback (most recent call last)",
            "\u001b[0;32m<ipython-input-58-e51e118cdcbc>\u001b[0m in \u001b[0;36m<cell line: 3>\u001b[0;34m()\u001b[0m\n\u001b[1;32m      1\u001b[0m \u001b[0mx0\u001b[0m \u001b[0;34m=\u001b[0m \u001b[0mVariable\u001b[0m\u001b[0;34m(\u001b[0m\u001b[0mnp\u001b[0m\u001b[0;34m.\u001b[0m\u001b[0marray\u001b[0m\u001b[0;34m(\u001b[0m\u001b[0;36m2\u001b[0m\u001b[0;34m)\u001b[0m\u001b[0;34m)\u001b[0m\u001b[0;34m\u001b[0m\u001b[0;34m\u001b[0m\u001b[0m\n\u001b[1;32m      2\u001b[0m \u001b[0mx1\u001b[0m \u001b[0;34m=\u001b[0m \u001b[0mVariable\u001b[0m\u001b[0;34m(\u001b[0m\u001b[0mnp\u001b[0m\u001b[0;34m.\u001b[0m\u001b[0marray\u001b[0m\u001b[0;34m(\u001b[0m\u001b[0;36m3\u001b[0m\u001b[0;34m)\u001b[0m\u001b[0;34m)\u001b[0m\u001b[0;34m\u001b[0m\u001b[0;34m\u001b[0m\u001b[0m\n\u001b[0;32m----> 3\u001b[0;31m \u001b[0my\u001b[0m \u001b[0;34m=\u001b[0m \u001b[0madd\u001b[0m\u001b[0;34m(\u001b[0m\u001b[0mx0\u001b[0m\u001b[0;34m,\u001b[0m \u001b[0mx1\u001b[0m\u001b[0;34m)\u001b[0m\u001b[0;34m\u001b[0m\u001b[0;34m\u001b[0m\u001b[0m\n\u001b[0m\u001b[1;32m      4\u001b[0m \u001b[0mprint\u001b[0m\u001b[0;34m(\u001b[0m\u001b[0my\u001b[0m\u001b[0;34m.\u001b[0m\u001b[0mdata\u001b[0m\u001b[0;34m)\u001b[0m\u001b[0;34m\u001b[0m\u001b[0;34m\u001b[0m\u001b[0m\n",
            "\u001b[0;32m<ipython-input-56-47ebeee4ef9c>\u001b[0m in \u001b[0;36madd\u001b[0;34m(x0, x1)\u001b[0m\n\u001b[1;32m      1\u001b[0m \u001b[0;32mdef\u001b[0m \u001b[0madd\u001b[0m\u001b[0;34m(\u001b[0m\u001b[0mx0\u001b[0m\u001b[0;34m,\u001b[0m \u001b[0mx1\u001b[0m\u001b[0;34m)\u001b[0m\u001b[0;34m:\u001b[0m\u001b[0;34m\u001b[0m\u001b[0;34m\u001b[0m\u001b[0m\n\u001b[0;32m----> 2\u001b[0;31m   \u001b[0;32mreturn\u001b[0m \u001b[0mAdd\u001b[0m\u001b[0;34m(\u001b[0m\u001b[0;34m)\u001b[0m\u001b[0;34m(\u001b[0m\u001b[0mx0\u001b[0m\u001b[0;34m,\u001b[0m \u001b[0mx1\u001b[0m\u001b[0;34m)\u001b[0m\u001b[0;34m\u001b[0m\u001b[0;34m\u001b[0m\u001b[0m\n\u001b[0m",
            "\u001b[0;31mTypeError\u001b[0m: Function.__call__() takes 2 positional arguments but 3 were given"
          ]
        }
      ]
    },
    {
      "cell_type": "code",
      "source": [
        "class Variable:\n",
        "  def __init__(self, data):\n",
        "    self.data = data\n",
        "    self.grad = None\n",
        "    self.creator = None\n",
        "\n",
        "def as_array(x):\n",
        "    if np.isscalar(x):\n",
        "        return np.array(x)\n",
        "    return x\n",
        "\n",
        "def set_creator(self, func):\n",
        "  self.creator = func\n",
        "\n",
        "def backward(self):\n",
        "  if self.grad is None:\n",
        "    self.grad = np.ones_like(self.data)\n",
        "\n",
        "    funcs = [self.creator]\n",
        "    while funcs:\n",
        "      f = funcs.pop()\n",
        "      x, y = f.input, f.output\n",
        "      x.grad = f.backward(y.grad)\n",
        "\n",
        "      if x.creator is not None:\n",
        "        funcs.append(x.creator)"
      ],
      "metadata": {
        "id": "-Ibws5rb36vC"
      },
      "execution_count": 59,
      "outputs": []
    },
    {
      "cell_type": "code",
      "source": [
        "#변경 후\n",
        "\n",
        "class Variable:\n",
        "  def __init__(self, data):\n",
        "    self.data = data\n",
        "    self.grad = None\n",
        "    self.creator = None\n",
        "\n",
        "def as_array(x):\n",
        "    if np.isscalar(x):\n",
        "        return np.array(x)\n",
        "    return x\n",
        "\n",
        "def set_creator(self, func):\n",
        "  self.creator = func\n",
        "\n",
        "def backward(self):\n",
        "  if self.grad is None:\n",
        "    self.grad = np.ones_like(self.data)\n",
        "\n",
        "    funcs = [self.creator]\n",
        "    while funcs:\n",
        "      f = funcs.pop()\n",
        "      gys = [output.grad for output in f.outputs]\n",
        "      gxs = f.backward(*gys)\n",
        "      if not isinstance(gxs, tuple):\n",
        "        gxs = (gxs, )\n",
        "\n",
        "      for x, gx in zip(f.inputs, gxs):\n",
        "        x.grad = gx\n",
        "      # x, y = f.input, f.output\n",
        "      # x.grad = f.backward(y.grad)\n",
        "\n",
        "      if x.creator is not None:\n",
        "        funcs.append(x.creator)"
      ],
      "metadata": {
        "id": "YOW23msH3956"
      },
      "execution_count": 60,
      "outputs": []
    },
    {
      "cell_type": "markdown",
      "source": [
        "### 오류가 계속 뜸....\n",
        "\n",
        "해결 방법을 찾아야함"
      ],
      "metadata": {
        "id": "OKEj-t9o6ck0"
      }
    },
    {
      "cell_type": "code",
      "source": [
        "x = Variable(np.array(3.0))\n",
        "y = add(x, x)\n",
        "y.backward()\n",
        "print('1. x.grad = ', x.grad)"
      ],
      "metadata": {
        "colab": {
          "base_uri": "https://localhost:8080/",
          "height": 273
        },
        "id": "y16DwNco5Z6C",
        "outputId": "9e9fb9ce-7b8d-4fec-d597-097a93fa0d28"
      },
      "execution_count": 61,
      "outputs": [
        {
          "output_type": "error",
          "ename": "TypeError",
          "evalue": "Function.__call__() takes 2 positional arguments but 3 were given",
          "traceback": [
            "\u001b[0;31m---------------------------------------------------------------------------\u001b[0m",
            "\u001b[0;31mTypeError\u001b[0m                                 Traceback (most recent call last)",
            "\u001b[0;32m<ipython-input-61-4e33b128c986>\u001b[0m in \u001b[0;36m<cell line: 2>\u001b[0;34m()\u001b[0m\n\u001b[1;32m      1\u001b[0m \u001b[0mx\u001b[0m \u001b[0;34m=\u001b[0m \u001b[0mVariable\u001b[0m\u001b[0;34m(\u001b[0m\u001b[0mnp\u001b[0m\u001b[0;34m.\u001b[0m\u001b[0marray\u001b[0m\u001b[0;34m(\u001b[0m\u001b[0;36m3.0\u001b[0m\u001b[0;34m)\u001b[0m\u001b[0;34m)\u001b[0m\u001b[0;34m\u001b[0m\u001b[0;34m\u001b[0m\u001b[0m\n\u001b[0;32m----> 2\u001b[0;31m \u001b[0my\u001b[0m \u001b[0;34m=\u001b[0m \u001b[0madd\u001b[0m\u001b[0;34m(\u001b[0m\u001b[0mx\u001b[0m\u001b[0;34m,\u001b[0m \u001b[0mx\u001b[0m\u001b[0;34m)\u001b[0m\u001b[0;34m\u001b[0m\u001b[0;34m\u001b[0m\u001b[0m\n\u001b[0m\u001b[1;32m      3\u001b[0m \u001b[0my\u001b[0m\u001b[0;34m.\u001b[0m\u001b[0mbackward\u001b[0m\u001b[0;34m(\u001b[0m\u001b[0;34m)\u001b[0m\u001b[0;34m\u001b[0m\u001b[0;34m\u001b[0m\u001b[0m\n\u001b[1;32m      4\u001b[0m \u001b[0mprint\u001b[0m\u001b[0;34m(\u001b[0m\u001b[0;34m'1. x.grad = '\u001b[0m\u001b[0;34m,\u001b[0m \u001b[0mx\u001b[0m\u001b[0;34m.\u001b[0m\u001b[0mgrad\u001b[0m\u001b[0;34m)\u001b[0m\u001b[0;34m\u001b[0m\u001b[0;34m\u001b[0m\u001b[0m\n",
            "\u001b[0;32m<ipython-input-56-47ebeee4ef9c>\u001b[0m in \u001b[0;36madd\u001b[0;34m(x0, x1)\u001b[0m\n\u001b[1;32m      1\u001b[0m \u001b[0;32mdef\u001b[0m \u001b[0madd\u001b[0m\u001b[0;34m(\u001b[0m\u001b[0mx0\u001b[0m\u001b[0;34m,\u001b[0m \u001b[0mx1\u001b[0m\u001b[0;34m)\u001b[0m\u001b[0;34m:\u001b[0m\u001b[0;34m\u001b[0m\u001b[0;34m\u001b[0m\u001b[0m\n\u001b[0;32m----> 2\u001b[0;31m   \u001b[0;32mreturn\u001b[0m \u001b[0mAdd\u001b[0m\u001b[0;34m(\u001b[0m\u001b[0;34m)\u001b[0m\u001b[0;34m(\u001b[0m\u001b[0mx0\u001b[0m\u001b[0;34m,\u001b[0m \u001b[0mx1\u001b[0m\u001b[0;34m)\u001b[0m\u001b[0;34m\u001b[0m\u001b[0;34m\u001b[0m\u001b[0m\n\u001b[0m",
            "\u001b[0;31mTypeError\u001b[0m: Function.__call__() takes 2 positional arguments but 3 were given"
          ]
        }
      ]
    },
    {
      "cell_type": "code",
      "source": [
        "class Add(Function):\n",
        "    def forward(self, *xs):\n",
        "        if len(xs) != 2:\n",
        "            raise ValueError(\"Add function expects exactly 2 arguments.\")\n",
        "        x0, x1 = xs\n",
        "        y = x0 + x1\n",
        "        return (y, )"
      ],
      "metadata": {
        "id": "rgjqGEwo5qMX"
      },
      "execution_count": 72,
      "outputs": []
    },
    {
      "cell_type": "code",
      "source": [
        "class Function:\n",
        "    def __call__(self, *inputs):\n",
        "        xs = [x.data for x in inputs]\n",
        "        ys = self.forward(xs)\n",
        "        outputs = [Variable(as_array(y)) for y in ys]\n",
        "\n",
        "        for output in outputs:\n",
        "            output.set_creator(self)\n",
        "        self.inputs = inputs\n",
        "        self.outputs = outputs\n",
        "        return outputs\n",
        "\n",
        "    def forward(self, x):\n",
        "        raise NotImplementedError()\n",
        "\n",
        "    def backward(self, gy):\n",
        "        raise NotImplementedError()"
      ],
      "metadata": {
        "id": "zy--I0Ct6Gag"
      },
      "execution_count": 73,
      "outputs": []
    },
    {
      "cell_type": "code",
      "source": [
        "x0 = Variable(np.array(2))\n",
        "x1 = Variable(np.array(3))\n",
        "f = Add()\n",
        "y = f(x0, x1)[0]\n",
        "print(y.data)"
      ],
      "metadata": {
        "colab": {
          "base_uri": "https://localhost:8080/",
          "height": 351
        },
        "id": "ixzZTqsi5rML",
        "outputId": "792ceeb3-1c20-4bf3-d0ab-978219d2a99a"
      },
      "execution_count": 74,
      "outputs": [
        {
          "output_type": "error",
          "ename": "ValueError",
          "evalue": "Add function expects exactly 2 arguments.",
          "traceback": [
            "\u001b[0;31m---------------------------------------------------------------------------\u001b[0m",
            "\u001b[0;31mValueError\u001b[0m                                Traceback (most recent call last)",
            "\u001b[0;32m<ipython-input-74-f8c8d894355e>\u001b[0m in \u001b[0;36m<cell line: 4>\u001b[0;34m()\u001b[0m\n\u001b[1;32m      2\u001b[0m \u001b[0mx1\u001b[0m \u001b[0;34m=\u001b[0m \u001b[0mVariable\u001b[0m\u001b[0;34m(\u001b[0m\u001b[0mnp\u001b[0m\u001b[0;34m.\u001b[0m\u001b[0marray\u001b[0m\u001b[0;34m(\u001b[0m\u001b[0;36m3\u001b[0m\u001b[0;34m)\u001b[0m\u001b[0;34m)\u001b[0m\u001b[0;34m\u001b[0m\u001b[0;34m\u001b[0m\u001b[0m\n\u001b[1;32m      3\u001b[0m \u001b[0mf\u001b[0m \u001b[0;34m=\u001b[0m \u001b[0mAdd\u001b[0m\u001b[0;34m(\u001b[0m\u001b[0;34m)\u001b[0m\u001b[0;34m\u001b[0m\u001b[0;34m\u001b[0m\u001b[0m\n\u001b[0;32m----> 4\u001b[0;31m \u001b[0my\u001b[0m \u001b[0;34m=\u001b[0m \u001b[0mf\u001b[0m\u001b[0;34m(\u001b[0m\u001b[0mx0\u001b[0m\u001b[0;34m,\u001b[0m \u001b[0mx1\u001b[0m\u001b[0;34m)\u001b[0m\u001b[0;34m[\u001b[0m\u001b[0;36m0\u001b[0m\u001b[0;34m]\u001b[0m\u001b[0;34m\u001b[0m\u001b[0;34m\u001b[0m\u001b[0m\n\u001b[0m\u001b[1;32m      5\u001b[0m \u001b[0mprint\u001b[0m\u001b[0;34m(\u001b[0m\u001b[0my\u001b[0m\u001b[0;34m.\u001b[0m\u001b[0mdata\u001b[0m\u001b[0;34m)\u001b[0m\u001b[0;34m\u001b[0m\u001b[0;34m\u001b[0m\u001b[0m\n",
            "\u001b[0;32m<ipython-input-68-536898e6b02f>\u001b[0m in \u001b[0;36m__call__\u001b[0;34m(self, *inputs)\u001b[0m\n\u001b[1;32m      2\u001b[0m     \u001b[0;32mdef\u001b[0m \u001b[0m__call__\u001b[0m\u001b[0;34m(\u001b[0m\u001b[0mself\u001b[0m\u001b[0;34m,\u001b[0m \u001b[0;34m*\u001b[0m\u001b[0minputs\u001b[0m\u001b[0;34m)\u001b[0m\u001b[0;34m:\u001b[0m\u001b[0;34m\u001b[0m\u001b[0;34m\u001b[0m\u001b[0m\n\u001b[1;32m      3\u001b[0m         \u001b[0mxs\u001b[0m \u001b[0;34m=\u001b[0m \u001b[0;34m[\u001b[0m\u001b[0mx\u001b[0m\u001b[0;34m.\u001b[0m\u001b[0mdata\u001b[0m \u001b[0;32mfor\u001b[0m \u001b[0mx\u001b[0m \u001b[0;32min\u001b[0m \u001b[0minputs\u001b[0m\u001b[0;34m]\u001b[0m\u001b[0;34m\u001b[0m\u001b[0;34m\u001b[0m\u001b[0m\n\u001b[0;32m----> 4\u001b[0;31m         \u001b[0mys\u001b[0m \u001b[0;34m=\u001b[0m \u001b[0mself\u001b[0m\u001b[0;34m.\u001b[0m\u001b[0mforward\u001b[0m\u001b[0;34m(\u001b[0m\u001b[0mxs\u001b[0m\u001b[0;34m)\u001b[0m\u001b[0;34m\u001b[0m\u001b[0;34m\u001b[0m\u001b[0m\n\u001b[0m\u001b[1;32m      5\u001b[0m         \u001b[0moutputs\u001b[0m \u001b[0;34m=\u001b[0m \u001b[0;34m[\u001b[0m\u001b[0mVariable\u001b[0m\u001b[0;34m(\u001b[0m\u001b[0mas_array\u001b[0m\u001b[0;34m(\u001b[0m\u001b[0my\u001b[0m\u001b[0;34m)\u001b[0m\u001b[0;34m)\u001b[0m \u001b[0;32mfor\u001b[0m \u001b[0my\u001b[0m \u001b[0;32min\u001b[0m \u001b[0mys\u001b[0m\u001b[0;34m]\u001b[0m\u001b[0;34m\u001b[0m\u001b[0;34m\u001b[0m\u001b[0m\n\u001b[1;32m      6\u001b[0m \u001b[0;34m\u001b[0m\u001b[0m\n",
            "\u001b[0;32m<ipython-input-72-f6e910643e67>\u001b[0m in \u001b[0;36mforward\u001b[0;34m(self, *xs)\u001b[0m\n\u001b[1;32m      2\u001b[0m     \u001b[0;32mdef\u001b[0m \u001b[0mforward\u001b[0m\u001b[0;34m(\u001b[0m\u001b[0mself\u001b[0m\u001b[0;34m,\u001b[0m \u001b[0;34m*\u001b[0m\u001b[0mxs\u001b[0m\u001b[0;34m)\u001b[0m\u001b[0;34m:\u001b[0m\u001b[0;34m\u001b[0m\u001b[0;34m\u001b[0m\u001b[0m\n\u001b[1;32m      3\u001b[0m         \u001b[0;32mif\u001b[0m \u001b[0mlen\u001b[0m\u001b[0;34m(\u001b[0m\u001b[0mxs\u001b[0m\u001b[0;34m)\u001b[0m \u001b[0;34m!=\u001b[0m \u001b[0;36m2\u001b[0m\u001b[0;34m:\u001b[0m\u001b[0;34m\u001b[0m\u001b[0;34m\u001b[0m\u001b[0m\n\u001b[0;32m----> 4\u001b[0;31m             \u001b[0;32mraise\u001b[0m \u001b[0mValueError\u001b[0m\u001b[0;34m(\u001b[0m\u001b[0;34m\"Add function expects exactly 2 arguments.\"\u001b[0m\u001b[0;34m)\u001b[0m\u001b[0;34m\u001b[0m\u001b[0;34m\u001b[0m\u001b[0m\n\u001b[0m\u001b[1;32m      5\u001b[0m         \u001b[0mx0\u001b[0m\u001b[0;34m,\u001b[0m \u001b[0mx1\u001b[0m \u001b[0;34m=\u001b[0m \u001b[0mxs\u001b[0m\u001b[0;34m\u001b[0m\u001b[0;34m\u001b[0m\u001b[0m\n\u001b[1;32m      6\u001b[0m         \u001b[0my\u001b[0m \u001b[0;34m=\u001b[0m \u001b[0mx0\u001b[0m \u001b[0;34m+\u001b[0m \u001b[0mx1\u001b[0m\u001b[0;34m\u001b[0m\u001b[0;34m\u001b[0m\u001b[0m\n",
            "\u001b[0;31mValueError\u001b[0m: Add function expects exactly 2 arguments."
          ]
        }
      ]
    },
    {
      "cell_type": "code",
      "source": [
        "x = Variable(np.array(3.0))\n",
        "y = add(x, x)\n",
        "y.backward()\n",
        "print('1. x.grad = ', x.grad)\n",
        "\n",
        "x.cleargrad() #추가됨\n",
        "y = add(x, x)\n",
        "y.backward()\n",
        "print('2. x.grad = ', x.grad)"
      ],
      "metadata": {
        "colab": {
          "base_uri": "https://localhost:8080/",
          "height": 370
        },
        "id": "eaVmNVu66cOp",
        "outputId": "dc4e562e-7e06-477f-a8aa-ebc439840d0f"
      },
      "execution_count": 76,
      "outputs": [
        {
          "output_type": "error",
          "ename": "ValueError",
          "evalue": "Add function expects exactly 2 arguments.",
          "traceback": [
            "\u001b[0;31m---------------------------------------------------------------------------\u001b[0m",
            "\u001b[0;31mValueError\u001b[0m                                Traceback (most recent call last)",
            "\u001b[0;32m<ipython-input-76-b991ef1db0fc>\u001b[0m in \u001b[0;36m<cell line: 2>\u001b[0;34m()\u001b[0m\n\u001b[1;32m      1\u001b[0m \u001b[0mx\u001b[0m \u001b[0;34m=\u001b[0m \u001b[0mVariable\u001b[0m\u001b[0;34m(\u001b[0m\u001b[0mnp\u001b[0m\u001b[0;34m.\u001b[0m\u001b[0marray\u001b[0m\u001b[0;34m(\u001b[0m\u001b[0;36m3.0\u001b[0m\u001b[0;34m)\u001b[0m\u001b[0;34m)\u001b[0m\u001b[0;34m\u001b[0m\u001b[0;34m\u001b[0m\u001b[0m\n\u001b[0;32m----> 2\u001b[0;31m \u001b[0my\u001b[0m \u001b[0;34m=\u001b[0m \u001b[0madd\u001b[0m\u001b[0;34m(\u001b[0m\u001b[0mx\u001b[0m\u001b[0;34m,\u001b[0m \u001b[0mx\u001b[0m\u001b[0;34m)\u001b[0m\u001b[0;34m\u001b[0m\u001b[0;34m\u001b[0m\u001b[0m\n\u001b[0m\u001b[1;32m      3\u001b[0m \u001b[0my\u001b[0m\u001b[0;34m.\u001b[0m\u001b[0mbackward\u001b[0m\u001b[0;34m(\u001b[0m\u001b[0;34m)\u001b[0m\u001b[0;34m\u001b[0m\u001b[0;34m\u001b[0m\u001b[0m\n\u001b[1;32m      4\u001b[0m \u001b[0mprint\u001b[0m\u001b[0;34m(\u001b[0m\u001b[0;34m'1. x.grad = '\u001b[0m\u001b[0;34m,\u001b[0m \u001b[0mx\u001b[0m\u001b[0;34m.\u001b[0m\u001b[0mgrad\u001b[0m\u001b[0;34m)\u001b[0m\u001b[0;34m\u001b[0m\u001b[0;34m\u001b[0m\u001b[0m\n\u001b[1;32m      5\u001b[0m \u001b[0;34m\u001b[0m\u001b[0m\n",
            "\u001b[0;32m<ipython-input-56-47ebeee4ef9c>\u001b[0m in \u001b[0;36madd\u001b[0;34m(x0, x1)\u001b[0m\n\u001b[1;32m      1\u001b[0m \u001b[0;32mdef\u001b[0m \u001b[0madd\u001b[0m\u001b[0;34m(\u001b[0m\u001b[0mx0\u001b[0m\u001b[0;34m,\u001b[0m \u001b[0mx1\u001b[0m\u001b[0;34m)\u001b[0m\u001b[0;34m:\u001b[0m\u001b[0;34m\u001b[0m\u001b[0;34m\u001b[0m\u001b[0m\n\u001b[0;32m----> 2\u001b[0;31m   \u001b[0;32mreturn\u001b[0m \u001b[0mAdd\u001b[0m\u001b[0;34m(\u001b[0m\u001b[0;34m)\u001b[0m\u001b[0;34m(\u001b[0m\u001b[0mx0\u001b[0m\u001b[0;34m,\u001b[0m \u001b[0mx1\u001b[0m\u001b[0;34m)\u001b[0m\u001b[0;34m\u001b[0m\u001b[0;34m\u001b[0m\u001b[0m\n\u001b[0m",
            "\u001b[0;32m<ipython-input-68-536898e6b02f>\u001b[0m in \u001b[0;36m__call__\u001b[0;34m(self, *inputs)\u001b[0m\n\u001b[1;32m      2\u001b[0m     \u001b[0;32mdef\u001b[0m \u001b[0m__call__\u001b[0m\u001b[0;34m(\u001b[0m\u001b[0mself\u001b[0m\u001b[0;34m,\u001b[0m \u001b[0;34m*\u001b[0m\u001b[0minputs\u001b[0m\u001b[0;34m)\u001b[0m\u001b[0;34m:\u001b[0m\u001b[0;34m\u001b[0m\u001b[0;34m\u001b[0m\u001b[0m\n\u001b[1;32m      3\u001b[0m         \u001b[0mxs\u001b[0m \u001b[0;34m=\u001b[0m \u001b[0;34m[\u001b[0m\u001b[0mx\u001b[0m\u001b[0;34m.\u001b[0m\u001b[0mdata\u001b[0m \u001b[0;32mfor\u001b[0m \u001b[0mx\u001b[0m \u001b[0;32min\u001b[0m \u001b[0minputs\u001b[0m\u001b[0;34m]\u001b[0m\u001b[0;34m\u001b[0m\u001b[0;34m\u001b[0m\u001b[0m\n\u001b[0;32m----> 4\u001b[0;31m         \u001b[0mys\u001b[0m \u001b[0;34m=\u001b[0m \u001b[0mself\u001b[0m\u001b[0;34m.\u001b[0m\u001b[0mforward\u001b[0m\u001b[0;34m(\u001b[0m\u001b[0mxs\u001b[0m\u001b[0;34m)\u001b[0m\u001b[0;34m\u001b[0m\u001b[0;34m\u001b[0m\u001b[0m\n\u001b[0m\u001b[1;32m      5\u001b[0m         \u001b[0moutputs\u001b[0m \u001b[0;34m=\u001b[0m \u001b[0;34m[\u001b[0m\u001b[0mVariable\u001b[0m\u001b[0;34m(\u001b[0m\u001b[0mas_array\u001b[0m\u001b[0;34m(\u001b[0m\u001b[0my\u001b[0m\u001b[0;34m)\u001b[0m\u001b[0;34m)\u001b[0m \u001b[0;32mfor\u001b[0m \u001b[0my\u001b[0m \u001b[0;32min\u001b[0m \u001b[0mys\u001b[0m\u001b[0;34m]\u001b[0m\u001b[0;34m\u001b[0m\u001b[0;34m\u001b[0m\u001b[0m\n\u001b[1;32m      6\u001b[0m \u001b[0;34m\u001b[0m\u001b[0m\n",
            "\u001b[0;32m<ipython-input-72-f6e910643e67>\u001b[0m in \u001b[0;36mforward\u001b[0;34m(self, *xs)\u001b[0m\n\u001b[1;32m      2\u001b[0m     \u001b[0;32mdef\u001b[0m \u001b[0mforward\u001b[0m\u001b[0;34m(\u001b[0m\u001b[0mself\u001b[0m\u001b[0;34m,\u001b[0m \u001b[0;34m*\u001b[0m\u001b[0mxs\u001b[0m\u001b[0;34m)\u001b[0m\u001b[0;34m:\u001b[0m\u001b[0;34m\u001b[0m\u001b[0;34m\u001b[0m\u001b[0m\n\u001b[1;32m      3\u001b[0m         \u001b[0;32mif\u001b[0m \u001b[0mlen\u001b[0m\u001b[0;34m(\u001b[0m\u001b[0mxs\u001b[0m\u001b[0;34m)\u001b[0m \u001b[0;34m!=\u001b[0m \u001b[0;36m2\u001b[0m\u001b[0;34m:\u001b[0m\u001b[0;34m\u001b[0m\u001b[0;34m\u001b[0m\u001b[0m\n\u001b[0;32m----> 4\u001b[0;31m             \u001b[0;32mraise\u001b[0m \u001b[0mValueError\u001b[0m\u001b[0;34m(\u001b[0m\u001b[0;34m\"Add function expects exactly 2 arguments.\"\u001b[0m\u001b[0;34m)\u001b[0m\u001b[0;34m\u001b[0m\u001b[0;34m\u001b[0m\u001b[0m\n\u001b[0m\u001b[1;32m      5\u001b[0m         \u001b[0mx0\u001b[0m\u001b[0;34m,\u001b[0m \u001b[0mx1\u001b[0m \u001b[0;34m=\u001b[0m \u001b[0mxs\u001b[0m\u001b[0;34m\u001b[0m\u001b[0;34m\u001b[0m\u001b[0m\n\u001b[1;32m      6\u001b[0m         \u001b[0my\u001b[0m \u001b[0;34m=\u001b[0m \u001b[0mx0\u001b[0m \u001b[0;34m+\u001b[0m \u001b[0mx1\u001b[0m\u001b[0;34m\u001b[0m\u001b[0;34m\u001b[0m\u001b[0m\n",
            "\u001b[0;31mValueError\u001b[0m: Add function expects exactly 2 arguments."
          ]
        }
      ]
    },
    {
      "cell_type": "markdown",
      "source": [
        "### 역전파 (가변 길이 인수)\n",
        "\n",
        ": 덧셈의 역전파\n",
        "\n",
        "- 상류에서 흘러나오는 미분 값을 그대로 보냄\n",
        "(가중치 업데이트 방식)\n",
        "![image.png](data:image/png;base64,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)\n",
        "- D -> B or C -> A (올바른 순서로 처리시)"
      ],
      "metadata": {
        "id": "1vdSOcaJ7KZe"
      }
    },
    {
      "cell_type": "code",
      "source": [
        "class Variable:\n",
        "  def __init__(self, data):\n",
        "    self.data = data\n",
        "    self.grad = None\n",
        "    self.creator = None\n",
        "\n",
        "  def set_creator(self, func):\n",
        "    self.creator = func\n",
        "\n",
        "  def backward(self):\n",
        "    if self.grad is None:\n",
        "      self.grad = np.ones_like(self.data)\n",
        "\n",
        "      funcs = [self.creator]\n",
        "\n",
        "      while funcs:\n",
        "        f = funcs.pop() #마지막 함수 값 소환하는 함수\n",
        "        gys = [output.grad for output in f.outputs]\n",
        "        gxs = f.backward(*gys)\n",
        "        if not isinstance(gxs, tuple):\n",
        "          gxs = (gxs, )\n",
        "\n",
        "        for x, gx in zip(f.inputs, gxs):\n",
        "          x.grad = gx\n",
        "\n",
        "        if x.creator is not None:\n",
        "          funcs.append(x.ceator)"
      ],
      "metadata": {
        "id": "ijkqR1RT7Jan"
      },
      "execution_count": 77,
      "outputs": []
    },
    {
      "cell_type": "markdown",
      "source": [
        "###### 역전파의 경우 세대 수가 큰 쪽부터 처리하면 부모보다 먼저 처리됨\n",
        ": 세대가 우선 순위에 해당된다는 뜻"
      ],
      "metadata": {
        "id": "572DNqxV8ePN"
      }
    },
    {
      "cell_type": "markdown",
      "source": [
        "### 순전파\n",
        ": variable & Function에 (generation 추가)\n"
      ],
      "metadata": {
        "id": "EBo0kPix9d_q"
      }
    },
    {
      "cell_type": "code",
      "source": [
        "class Variable:\n",
        "  def __init__(self, data):\n",
        "    self.data = data\n",
        "    self.grad = None\n",
        "    self.creator = None\n",
        "    self.generation = 0  #추가됨 -> 0으로 초기화\n",
        "\n",
        "  def set_creator(self, func):\n",
        "    self.creator = func\n",
        "    self.generation = func.generation + 1 #set_creator 호출 시 함수의 세대보다 1만큼 크게 설정\n",
        "\n",
        "  def backward(self):\n",
        "    if self.grad is None:\n",
        "      self.grad = np.ones_like(self.data)\n",
        "\n",
        "      funcs = [] #공백으로 바꿈\n",
        "      seen_set = set() #추가됨\n",
        "\n",
        "      while funcs:\n",
        "        f = funcs.pop() #마지막 함수 값 소환하는 함수\n",
        "        gys = [output.grad for output in f.outputs]\n",
        "        gxs = f.backward(*gys)\n",
        "        if not isinstance(gxs, tuple):\n",
        "          gxs = (gxs, )\n",
        "\n",
        "        for x, gx in zip(f.inputs, gxs):\n",
        "          x.grad = gx\n",
        "\n",
        "        if x.creator is not None:\n",
        "          funcs.append(x.ceator)\n",
        "  def add_func(f):\n",
        "    if f not in seen_set:\n",
        "      funcs.append(f)\n",
        "      seen_set.add(f)\n",
        "      funcs.sort(key=lambda x: x.generation)\n",
        "\n",
        "  add_func(self.creator)"
      ],
      "metadata": {
        "colab": {
          "base_uri": "https://localhost:8080/",
          "height": 309
        },
        "id": "Ma5eKkYr8qjs",
        "outputId": "e8480053-1269-472b-f4bf-72029af9a9e8"
      },
      "execution_count": 83,
      "outputs": [
        {
          "output_type": "error",
          "ename": "NameError",
          "evalue": "name 'self' is not defined",
          "traceback": [
            "\u001b[0;31m---------------------------------------------------------------------------\u001b[0m",
            "\u001b[0;31mNameError\u001b[0m                                 Traceback (most recent call last)",
            "\u001b[0;32m<ipython-input-83-a5d509ce3a27>\u001b[0m in \u001b[0;36m<cell line: 1>\u001b[0;34m()\u001b[0m\n\u001b[0;32m----> 1\u001b[0;31m \u001b[0;32mclass\u001b[0m \u001b[0mVariable\u001b[0m\u001b[0;34m:\u001b[0m\u001b[0;34m\u001b[0m\u001b[0;34m\u001b[0m\u001b[0m\n\u001b[0m\u001b[1;32m      2\u001b[0m   \u001b[0;32mdef\u001b[0m \u001b[0m__init__\u001b[0m\u001b[0;34m(\u001b[0m\u001b[0mself\u001b[0m\u001b[0;34m,\u001b[0m \u001b[0mdata\u001b[0m\u001b[0;34m)\u001b[0m\u001b[0;34m:\u001b[0m\u001b[0;34m\u001b[0m\u001b[0;34m\u001b[0m\u001b[0m\n\u001b[1;32m      3\u001b[0m     \u001b[0mself\u001b[0m\u001b[0;34m.\u001b[0m\u001b[0mdata\u001b[0m \u001b[0;34m=\u001b[0m \u001b[0mdata\u001b[0m\u001b[0;34m\u001b[0m\u001b[0;34m\u001b[0m\u001b[0m\n\u001b[1;32m      4\u001b[0m     \u001b[0mself\u001b[0m\u001b[0;34m.\u001b[0m\u001b[0mgrad\u001b[0m \u001b[0;34m=\u001b[0m \u001b[0;32mNone\u001b[0m\u001b[0;34m\u001b[0m\u001b[0;34m\u001b[0m\u001b[0m\n\u001b[1;32m      5\u001b[0m     \u001b[0mself\u001b[0m\u001b[0;34m.\u001b[0m\u001b[0mcreator\u001b[0m \u001b[0;34m=\u001b[0m \u001b[0;32mNone\u001b[0m\u001b[0;34m\u001b[0m\u001b[0;34m\u001b[0m\u001b[0m\n",
            "\u001b[0;32m<ipython-input-83-a5d509ce3a27>\u001b[0m in \u001b[0;36mVariable\u001b[0;34m()\u001b[0m\n\u001b[1;32m     35\u001b[0m       \u001b[0mfuncs\u001b[0m\u001b[0;34m.\u001b[0m\u001b[0msort\u001b[0m\u001b[0;34m(\u001b[0m\u001b[0mkey\u001b[0m\u001b[0;34m=\u001b[0m\u001b[0;32mlambda\u001b[0m \u001b[0mx\u001b[0m\u001b[0;34m:\u001b[0m \u001b[0mx\u001b[0m\u001b[0;34m.\u001b[0m\u001b[0mgeneration\u001b[0m\u001b[0;34m)\u001b[0m\u001b[0;34m\u001b[0m\u001b[0;34m\u001b[0m\u001b[0m\n\u001b[1;32m     36\u001b[0m \u001b[0;34m\u001b[0m\u001b[0m\n\u001b[0;32m---> 37\u001b[0;31m   \u001b[0madd_func\u001b[0m\u001b[0;34m(\u001b[0m\u001b[0mself\u001b[0m\u001b[0;34m.\u001b[0m\u001b[0mcreator\u001b[0m\u001b[0;34m)\u001b[0m\u001b[0;34m\u001b[0m\u001b[0;34m\u001b[0m\u001b[0m\n\u001b[0m",
            "\u001b[0;31mNameError\u001b[0m: name 'self' is not defined"
          ]
        }
      ]
    },
    {
      "cell_type": "markdown",
      "source": [
        ": 중첩 메서드 추가하면서 세대 별로 분류함"
      ],
      "metadata": {
        "id": "xIH_KJzhAMaU"
      }
    }
  ]
}