{
  "nbformat": 4,
  "nbformat_minor": 0,
  "metadata": {
    "colab": {
      "provenance": []
    },
    "kernelspec": {
      "name": "python3",
      "display_name": "Python 3"
    },
    "language_info": {
      "name": "python"
    }
  },
  "cells": [
    {
      "cell_type": "code",
      "source": [
        "from google.colab import drive\n",
        "drive.mount('/content/drive')"
      ],
      "metadata": {
        "colab": {
          "base_uri": "https://localhost:8080/"
        },
        "id": "BmDjDTB56d_v",
        "outputId": "26bdcbd5-89ed-477a-a779-341fcad2e33e"
      },
      "execution_count": null,
      "outputs": [
        {
          "output_type": "stream",
          "name": "stdout",
          "text": [
            "Mounted at /content/drive\n"
          ]
        }
      ]
    },
    {
      "cell_type": "code",
      "source": [
        "import os\n",
        "\n",
        "# 변경하고자 하는 새로운 디렉토리 경로\n",
        "new_directory = '/content/drive/MyDrive'\n",
        "\n",
        "# 디렉토리 위치 변경\n",
        "os.chdir(new_directory)\n",
        "\n",
        "# 변경된 디렉토리 경로 출력\n",
        "print(\"Current directory:\", os.getcwd())"
      ],
      "metadata": {
        "colab": {
          "base_uri": "https://localhost:8080/"
        },
        "id": "KZq0x3CM6gTw",
        "outputId": "7dc6f40a-870a-4fb9-86ff-d2dfcb991e6d"
      },
      "execution_count": null,
      "outputs": [
        {
          "output_type": "stream",
          "name": "stdout",
          "text": [
            "Current directory: /content/drive/MyDrive\n"
          ]
        }
      ]
    },
    {
      "cell_type": "code",
      "source": [
        "import numpy as np\n",
        "import matplotlib.pyplot as plt\n",
        "from dezero import Variable\n",
        "import dezero.functions as F\n",
        "\n",
        "np.random.seed(0)\n",
        "# x = np.random.rand(100, 1)\n",
        "# y = 5 + 2 * x + np.random.rand(100, 1)\n",
        "# x. y = Variable(x). Variable(y)\n",
        "\n",
        "x = np.random.rand(100, 1)\n",
        "y = 5 + 2 * x + np.random.rand(100, 1)\n",
        "x = Variable(x)\n",
        "y = Variable(y)\n",
        "\n",
        "W = Variable(np.random.rand(1, 1))\n",
        "b = Variable(np.zeros(1))"
      ],
      "metadata": {
        "id": "eHcRzGLf7ev_"
      },
      "execution_count": null,
      "outputs": []
    },
    {
      "cell_type": "code",
      "source": [
        "def predict(x):\n",
        "  y = F.matmul(x, W) + b\n",
        "  return y"
      ],
      "metadata": {
        "id": "qBvfKLDG2I_P"
      },
      "execution_count": null,
      "outputs": []
    },
    {
      "cell_type": "code",
      "source": [
        "def mean_squared_error(x0, x1):\n",
        "  diff = x0 -x1\n",
        "  return F.sum(diff ** 2) / len(diff)"
      ],
      "metadata": {
        "id": "iA7J4uRY2SKC"
      },
      "execution_count": null,
      "outputs": []
    },
    {
      "cell_type": "code",
      "source": [
        "lr = 0.1\n",
        "iters = 100\n",
        "\n",
        "for i in range(iters):\n",
        "  y_pred = predict(x)\n",
        "  loss = mean_squared_error(y, y_pred)\n",
        "\n",
        "  W.cleargrad()\n",
        "  b.cleargrad()\n",
        "  loss.backward()\n",
        "\n",
        "  W.data -= lr * W.grad.data\n",
        "  b.data -= lr * b.grad.data\n",
        "  print(W, b, loss)"
      ],
      "metadata": {
        "colab": {
          "base_uri": "https://localhost:8080/"
        },
        "id": "9b-rzzpT2l2C",
        "outputId": "300fbc92-3460-4994-c276-da1c4f1fd53b"
      },
      "execution_count": null,
      "outputs": [
        {
          "output_type": "stream",
          "name": "stdout",
          "text": [
            "variable([[1.4042349]]) variable([2.21833226]) variable(22.868379151562564)\n",
            "variable([[1.75268447]]) variable([2.93661697]) variable(12.998108825107881)\n",
            "variable([[2.0118434]]) variable([3.47829578]) variable(7.414441496057018)\n",
            "variable([[2.20388753]]) variable([3.88713308]) variable(4.255402853365201)\n",
            "variable([[2.34549437]]) variable([4.19604346]) variable(2.4678141875542026)\n",
            "variable([[2.44920622]]) variable([4.4297816]) variable(1.4559713477474892)\n",
            "variable([[2.5244554]]) variable([4.60696524]) variable(0.8829289799259084)\n",
            "variable([[2.57833526]]) variable([4.74159669]) variable(0.5581020389515313)\n",
            "variable([[2.61618006]]) variable([4.84420703]) variable(0.37369045855724076)\n",
            "variable([[2.64200111]]) variable([4.92271675]) variable(0.26871939177846316)\n",
            "variable([[2.65881477]]) variable([4.98308292]) variable(0.2086994924232526)\n",
            "variable([[2.66888909]]) variable([5.02978597]) variable(0.17412227321272536)\n",
            "variable([[2.67392936]]) variable([5.0661958]) variable(0.15395279905273213)\n",
            "variable([[2.67521765]]) variable([5.09484706]) variable(0.14194899510239087)\n",
            "variable([[2.6737177]]) variable([5.11764625]) variable(0.13457975720800242)\n",
            "variable([[2.67015387]]) variable([5.13602744]) variable(0.12984738400706886)\n",
            "variable([[2.66507051]]) variable([5.15106938]) variable(0.12662151546135125)\n",
            "variable([[2.65887658]]) variable([5.1635836]) variable(0.12426239192565244)\n",
            "variable([[2.65187918]]) variable([5.17418068]) variable(0.12240775998495133)\n",
            "variable([[2.6443089]]) variable([5.18332]) variable(0.12085234090783427)\n",
            "variable([[2.63633869]]) variable([5.1913473]) variable(0.11947965478370028)\n",
            "variable([[2.62809826]]) variable([5.19852279]) variable(0.11822345832063139)\n",
            "variable([[2.6196847]]) variable([5.20504238]) variable(0.1170459328600883)\n",
            "variable([[2.61117067]]) variable([5.21105364]) variable(0.1159253467302733)\n",
            "variable([[2.60261039]]) variable([5.21666771]) variable(0.11484907652360794)\n",
            "variable([[2.59404426]]) variable([5.22196843]) variable(0.11380965951917146)\n",
            "variable([[2.58550226]]) variable([5.227019]) variable(0.11280256060119079)\n",
            "variable([[2.57700657]]) variable([5.23186718]) variable(0.11182490894463223)\n",
            "variable([[2.56857348]]) variable([5.23654906]) variable(0.110874783230849)\n",
            "variable([[2.56021489]]) variable([5.24109199]) variable(0.10995080713116055)\n",
            "variable([[2.55193935]]) variable([5.24551672]) variable(0.1090519202913309)\n",
            "variable([[2.54375296]]) variable([5.24983902]) variable(0.10817724858926636)\n",
            "variable([[2.53565994]]) variable([5.25407096]) variable(0.10732603054954641)\n",
            "variable([[2.52766309]]) variable([5.25822177]) variable(0.10649757552695985)\n",
            "variable([[2.5197642]]) variable([5.2622986]) variable(0.10569123986455425)\n",
            "variable([[2.51196426]]) variable([5.26630697]) variable(0.10490641322355854)\n",
            "variable([[2.50426365]]) variable([5.27025122]) variable(0.10414251067168012)\n",
            "variable([[2.49666237]]) variable([5.27413477]) variable(0.10339896803326351)\n",
            "variable([[2.48916005]]) variable([5.27796039]) variable(0.10267523908909401)\n",
            "variable([[2.48175611]]) variable([5.28173029]) variable(0.1019707938269382)\n",
            "variable([[2.47444977]]) variable([5.28544632]) variable(0.10128511729081867)\n",
            "variable([[2.46724016]]) variable([5.28911002]) variable(0.10061770877324142)\n",
            "variable([[2.46012627]]) variable([5.29272271]) variable(0.09996808120558627)\n",
            "variable([[2.45310707]]) variable([5.29628555]) variable(0.0993357606646504)\n",
            "variable([[2.44618147]]) variable([5.29979954]) variable(0.09872028594885199)\n",
            "variable([[2.43934833]]) variable([5.30326562]) variable(0.09812120819768934)\n",
            "variable([[2.43260653]]) variable([5.30668461]) variable(0.09753809053941867)\n",
            "variable([[2.4259549]]) variable([5.3100573]) variable(0.09697050775834444)\n",
            "variable([[2.41939231]]) variable([5.31338442]) variable(0.09641804597675803)\n",
            "variable([[2.41291759]]) variable([5.31666667]) variable(0.09588030234862205)\n",
            "variable([[2.40652961]]) variable([5.31990471]) variable(0.09535688476326536)\n",
            "variable([[2.40022722]]) variable([5.32309918]) variable(0.09484741155801907)\n",
            "variable([[2.39400929]]) variable([5.3262507]) variable(0.09435151123909996)\n",
            "variable([[2.3878747]]) variable([5.32935988]) variable(0.09386882221026521)\n",
            "variable([[2.38182236]]) variable([5.3324273]) variable(0.09339899250888503)\n",
            "variable([[2.37585115]]) variable([5.33545354]) variable(0.09294167954915374)\n",
            "variable([[2.36996]]) variable([5.33843916]) variable(0.09249654987220318)\n",
            "variable([[2.36414784]]) variable([5.34138472]) variable(0.09206327890290675)\n",
            "variable([[2.35841361]]) variable([5.34429076]) variable(0.09164155071318225)\n",
            "variable([[2.35275628]]) variable([5.34715781]) variable(0.09123105779161188)\n",
            "variable([[2.3471748]]) variable([5.3499864]) variable(0.0908315008192054)\n",
            "variable([[2.34166818]]) variable([5.35277705]) variable(0.09044258845114087)\n",
            "variable([[2.33623539]]) variable([5.35553027]) variable(0.09006403710432245)\n",
            "variable([[2.33087546]]) variable([5.35824656]) variable(0.08969557075059831)\n",
            "variable([[2.32558741]]) variable([5.36092642]) variable(0.08933692071548859)\n",
            "variable([[2.32037027]]) variable([5.36357035]) variable(0.08898782548227555)\n",
            "variable([[2.31522309]]) variable([5.36617881]) variable(0.0886480305013134)\n",
            "variable([[2.31014494]]) variable([5.36875229]) variable(0.08831728800441788)\n",
            "variable([[2.30513489]]) variable([5.37129126]) variable(0.08799535682420162)\n",
            "variable([[2.30019202]]) variable([5.37379618]) variable(0.08768200221822185)\n",
            "variable([[2.29531544]]) variable([5.37626751]) variable(0.08737699569781343)\n",
            "variable([[2.29050426]]) variable([5.37870569]) variable(0.08708011486148175)\n",
            "variable([[2.28575759]]) variable([5.38111118]) variable(0.08679114323273421)\n",
            "variable([[2.28107459]]) variable([5.38348441]) variable(0.08650987010223257)\n",
            "variable([[2.27645438]]) variable([5.38582581]) variable(0.08623609037414949)\n",
            "variable([[2.27189613]]) variable([5.38813582]) variable(0.08596960441661931)\n",
            "variable([[2.26739901]]) variable([5.39041484]) variable(0.08571021791617246)\n",
            "variable([[2.26296219]]) variable([5.3926633]) variable(0.08545774173604777)\n",
            "variable([[2.25858488]]) variable([5.39488161]) variable(0.08521199177827997)\n",
            "variable([[2.25426627]]) variable([5.39707017]) variable(0.08497278884946105)\n",
            "variable([[2.25000557]]) variable([5.39922939]) variable(0.08473995853007742)\n",
            "variable([[2.24580201]]) variable([5.40135964]) variable(0.08451333104732901)\n",
            "variable([[2.24165483]]) variable([5.40346133]) variable(0.08429274115133598)\n",
            "variable([[2.23756325]]) variable([5.40553483]) variable(0.08407802799464324)\n",
            "variable([[2.23352655]]) variable([5.40758053]) variable(0.08386903501493576)\n",
            "variable([[2.22954398]]) variable([5.40959879]) variable(0.08366560982087785)\n",
            "variable([[2.22561482]]) variable([5.41158999]) variable(0.08346760408099405)\n",
            "variable([[2.22173835]]) variable([5.41355448]) variable(0.08327487341551025)\n",
            "variable([[2.21791387]]) variable([5.41549263]) variable(0.08308727729107666)\n",
            "variable([[2.21414067]]) variable([5.41740479]) variable(0.0829046789182948)\n",
            "variable([[2.21041808]]) variable([5.4192913]) variable(0.08272694515197494)\n",
            "variable([[2.2067454]]) variable([5.42115252]) variable(0.0825539463940508)\n",
            "variable([[2.20312198]]) variable([5.42298878]) variable(0.08238555649908036)\n",
            "variable([[2.19954715]]) variable([5.42480041]) variable(0.08222165268226457)\n",
            "variable([[2.19602026]]) variable([5.42658775]) variable(0.08206211542991637)\n",
            "variable([[2.19254067]]) variable([5.42835111]) variable(0.08190682841231502)\n",
            "variable([[2.18910774]]) variable([5.43009083]) variable(0.0817556783988818)\n",
            "variable([[2.18572084]]) variable([5.43180722]) variable(0.08160855517561579)\n",
            "variable([[2.18237937]]) variable([5.4335006]) variable(0.08146535146472952)\n",
            "variable([[2.17908271]]) variable([5.43517126]) variable(0.08132596284642452)\n"
          ]
        }
      ]
    },
    {
      "cell_type": "code",
      "source": [
        "np.random.seed(0)\n",
        "x = np.random.rand(100, 1)\n",
        "y = np.sin(2 * np.pi * x) + np.random.rand(100, 1)\n",
        "\n",
        "plt.scatter(x, y)"
      ],
      "metadata": {
        "colab": {
          "base_uri": "https://localhost:8080/",
          "height": 448
        },
        "id": "1jn5MUpB5BnX",
        "outputId": "87740eba-ae98-4af8-dcdb-c4dc2dae6eea"
      },
      "execution_count": null,
      "outputs": [
        {
          "output_type": "execute_result",
          "data": {
            "text/plain": [
              "<matplotlib.collections.PathCollection at 0x7c0f05ca5540>"
            ]
          },
          "metadata": {},
          "execution_count": 39
        },
        {
          "output_type": "display_data",
          "data": {
            "text/plain": [
              "<Figure size 640x480 with 1 Axes>"
            ],
            "image/png": "[encoded data removed]"
          },
          "metadata": {}
        }
      ]
    },
    {
      "cell_type": "code",
      "source": [
        "#신경망 구조에서 기본적인 구조\n",
        "\n",
        "W1, b1 = Variable(np.random.rand(1, 100)), Variable(np.zeros(100))\n",
        "W2, b2 = Variable(np.random.rand(100, 1)), Variable(np.zeros(1)) #라는 가정\n",
        "\n",
        "def predict(x):\n",
        "  y = F.linear(x, W1, b1)\n",
        "  y = F.sigmoid(y)\n",
        "  y = F.linear(y, W2, b2)\n",
        "  return y\n",
        "  #linear -> sigmoid -> linear ~ 반복구조"
      ],
      "metadata": {
        "id": "m-hr7_9H5NF6"
      },
      "execution_count": null,
      "outputs": []
    },
    {
      "cell_type": "code",
      "source": [
        "#선형 -> 비선형\n",
        "def sigmoid_simple(x):\n",
        "  x = as_variable(x)\n",
        "  y = 1 / (1 + exp(-x))\n",
        "  return y"
      ],
      "metadata": {
        "id": "RQu9peTx6iCC"
      },
      "execution_count": null,
      "outputs": []
    },
    {
      "cell_type": "code",
      "source": [
        "np.random.seed(0)\n",
        "x = np.random.rand(100, 1)\n",
        "y = np.sin(2 * np.pi * x) + np.random.rand(100, 1)\n",
        "\n",
        "I, H, O = 1, 100, 1\n",
        "W1 = Variable(0.01 * np.random.randn(I, H))\n",
        "b1 = Variable(np.zeros(H))\n",
        "W2 = Variable(0.01 * np.random.randn(H, O))\n",
        "b2 = Variable(np.zeros(O))\n",
        "\n",
        "def predict(x):\n",
        "  y = F.linear(x, W1, b1)\n",
        "  y = sigmoid_simple(y)\n",
        "  y = F.linear(y, W2, b2)\n",
        "  return y"
      ],
      "metadata": {
        "id": "iXBX-yVd7z9a"
      },
      "execution_count": null,
      "outputs": []
    },
    {
      "cell_type": "code",
      "source": [
        "import numpy as np\n",
        "import dezero.functions as F\n",
        "from dezero import Variable\n",
        "\n",
        "np.random.seed(0)\n",
        "x = Variable(np.random.rand(100, 1))\n",
        "y = F.sin(2 * np.pi * x) + Variable(np.random.rand(100, 1))\n",
        "\n",
        "I, H, O = 1, 100, 1\n",
        "W1 = Variable(0.01 * np.random.randn(I, H))\n",
        "b1 = Variable(np.zeros(H))\n",
        "W2 = Variable(0.01 * np.random.randn(H, O))\n",
        "b2 = Variable(np.zeros(O))\n",
        "\n",
        "def predict(x):\n",
        "    y = F.linear(x, W1, b1)\n",
        "    y = sigmoid_simple(y)\n",
        "    y = F.linear(y, W2, b2)\n",
        "    return y\n",
        "\n",
        "lr = 0.2\n",
        "iters = 1000\n",
        "\n",
        "for i in range(iters):\n",
        "    y_pred = predict(x)\n",
        "    loss = F.mean_squared_error(y, y_pred)\n",
        "\n",
        "    W1.cleargrad()\n",
        "    b1.cleargrad()\n",
        "    W2.cleargrad()\n",
        "    b2.cleargrad()\n",
        "    loss.backward()\n",
        "\n",
        "    W1.data -= lr * W1.grad.data\n",
        "    b1.data -= lr * b1.grad.data\n",
        "    W2.data -= lr * W2.grad.data\n",
        "    b2.data -= lr * b2.grad.data\n",
        "    if i % 100 == 0:\n",
        "        print(loss)\n"
      ],
      "metadata": {
        "colab": {
          "base_uri": "https://localhost:8080/",
          "height": 373
        },
        "id": "AEp5RkP69WDC",
        "outputId": "c93de156-bd1d-4507-87bf-999f33dbb7d7"
      },
      "execution_count": null,
      "outputs": [
        {
          "output_type": "error",
          "ename": "NameError",
          "evalue": "name 'as_variable' is not defined",
          "traceback": [
            "\u001b[0;31m---------------------------------------------------------------------------\u001b[0m",
            "\u001b[0;31mNameError\u001b[0m                                 Traceback (most recent call last)",
            "\u001b[0;32m<ipython-input-49-0df157a91801>\u001b[0m in \u001b[0;36m<cell line: 24>\u001b[0;34m()\u001b[0m\n\u001b[1;32m     23\u001b[0m \u001b[0;34m\u001b[0m\u001b[0m\n\u001b[1;32m     24\u001b[0m \u001b[0;32mfor\u001b[0m \u001b[0mi\u001b[0m \u001b[0;32min\u001b[0m \u001b[0mrange\u001b[0m\u001b[0;34m(\u001b[0m\u001b[0miters\u001b[0m\u001b[0;34m)\u001b[0m\u001b[0;34m:\u001b[0m\u001b[0;34m\u001b[0m\u001b[0;34m\u001b[0m\u001b[0m\n\u001b[0;32m---> 25\u001b[0;31m     \u001b[0my_pred\u001b[0m \u001b[0;34m=\u001b[0m \u001b[0mpredict\u001b[0m\u001b[0;34m(\u001b[0m\u001b[0mx\u001b[0m\u001b[0;34m)\u001b[0m\u001b[0;34m\u001b[0m\u001b[0;34m\u001b[0m\u001b[0m\n\u001b[0m\u001b[1;32m     26\u001b[0m     \u001b[0mloss\u001b[0m \u001b[0;34m=\u001b[0m \u001b[0mF\u001b[0m\u001b[0;34m.\u001b[0m\u001b[0mmean_squared_error\u001b[0m\u001b[0;34m(\u001b[0m\u001b[0my\u001b[0m\u001b[0;34m,\u001b[0m \u001b[0my_pred\u001b[0m\u001b[0;34m)\u001b[0m\u001b[0;34m\u001b[0m\u001b[0;34m\u001b[0m\u001b[0m\n\u001b[1;32m     27\u001b[0m \u001b[0;34m\u001b[0m\u001b[0m\n",
            "\u001b[0;32m<ipython-input-49-0df157a91801>\u001b[0m in \u001b[0;36mpredict\u001b[0;34m(x)\u001b[0m\n\u001b[1;32m     15\u001b[0m \u001b[0;32mdef\u001b[0m \u001b[0mpredict\u001b[0m\u001b[0;34m(\u001b[0m\u001b[0mx\u001b[0m\u001b[0;34m)\u001b[0m\u001b[0;34m:\u001b[0m\u001b[0;34m\u001b[0m\u001b[0;34m\u001b[0m\u001b[0m\n\u001b[1;32m     16\u001b[0m     \u001b[0my\u001b[0m \u001b[0;34m=\u001b[0m \u001b[0mF\u001b[0m\u001b[0;34m.\u001b[0m\u001b[0mlinear\u001b[0m\u001b[0;34m(\u001b[0m\u001b[0mx\u001b[0m\u001b[0;34m,\u001b[0m \u001b[0mW1\u001b[0m\u001b[0;34m,\u001b[0m \u001b[0mb1\u001b[0m\u001b[0;34m)\u001b[0m\u001b[0;34m\u001b[0m\u001b[0;34m\u001b[0m\u001b[0m\n\u001b[0;32m---> 17\u001b[0;31m     \u001b[0my\u001b[0m \u001b[0;34m=\u001b[0m \u001b[0msigmoid_simple\u001b[0m\u001b[0;34m(\u001b[0m\u001b[0my\u001b[0m\u001b[0;34m)\u001b[0m\u001b[0;34m\u001b[0m\u001b[0;34m\u001b[0m\u001b[0m\n\u001b[0m\u001b[1;32m     18\u001b[0m     \u001b[0my\u001b[0m \u001b[0;34m=\u001b[0m \u001b[0mF\u001b[0m\u001b[0;34m.\u001b[0m\u001b[0mlinear\u001b[0m\u001b[0;34m(\u001b[0m\u001b[0my\u001b[0m\u001b[0;34m,\u001b[0m \u001b[0mW2\u001b[0m\u001b[0;34m,\u001b[0m \u001b[0mb2\u001b[0m\u001b[0;34m)\u001b[0m\u001b[0;34m\u001b[0m\u001b[0;34m\u001b[0m\u001b[0m\n\u001b[1;32m     19\u001b[0m     \u001b[0;32mreturn\u001b[0m \u001b[0my\u001b[0m\u001b[0;34m\u001b[0m\u001b[0;34m\u001b[0m\u001b[0m\n",
            "\u001b[0;32m<ipython-input-40-b5d213c664fd>\u001b[0m in \u001b[0;36msigmoid_simple\u001b[0;34m(x)\u001b[0m\n\u001b[1;32m      1\u001b[0m \u001b[0;31m#선형 -> 비선형\u001b[0m\u001b[0;34m\u001b[0m\u001b[0;34m\u001b[0m\u001b[0m\n\u001b[1;32m      2\u001b[0m \u001b[0;32mdef\u001b[0m \u001b[0msigmoid_simple\u001b[0m\u001b[0;34m(\u001b[0m\u001b[0mx\u001b[0m\u001b[0;34m)\u001b[0m\u001b[0;34m:\u001b[0m\u001b[0;34m\u001b[0m\u001b[0;34m\u001b[0m\u001b[0m\n\u001b[0;32m----> 3\u001b[0;31m   \u001b[0mx\u001b[0m \u001b[0;34m=\u001b[0m \u001b[0mas_variable\u001b[0m\u001b[0;34m(\u001b[0m\u001b[0mx\u001b[0m\u001b[0;34m)\u001b[0m\u001b[0;34m\u001b[0m\u001b[0;34m\u001b[0m\u001b[0m\n\u001b[0m\u001b[1;32m      4\u001b[0m   \u001b[0my\u001b[0m \u001b[0;34m=\u001b[0m \u001b[0;36m1\u001b[0m \u001b[0;34m/\u001b[0m \u001b[0;34m(\u001b[0m\u001b[0;36m1\u001b[0m \u001b[0;34m+\u001b[0m \u001b[0mexp\u001b[0m\u001b[0;34m(\u001b[0m\u001b[0;34m-\u001b[0m\u001b[0mx\u001b[0m\u001b[0;34m)\u001b[0m\u001b[0;34m)\u001b[0m\u001b[0;34m\u001b[0m\u001b[0;34m\u001b[0m\u001b[0m\n\u001b[1;32m      5\u001b[0m   \u001b[0;32mreturn\u001b[0m \u001b[0my\u001b[0m\u001b[0;34m\u001b[0m\u001b[0;34m\u001b[0m\u001b[0m\n",
            "\u001b[0;31mNameError\u001b[0m: name 'as_variable' is not defined"
          ]
        }
      ]
    },
    {
      "cell_type": "markdown",
      "source": [
        "### 매개변수를 모아두는 계층\n",
        "\n",
        "- 딥러닝을 더 간단하고 직관적으로 구현\n",
        "\n",
        "- 층이 깊어 질수록 매개변수 관리가 번거로워짐\n",
        "\n",
        "- 매개변수 관리를 간소화하는 구조가 필요함\n",
        "ㄴ 그래서 parameter & Layer Class를 생성함"
      ],
      "metadata": {
        "id": "b6hICo6B_wQS"
      }
    },
    {
      "cell_type": "code",
      "source": [
        "class Parameter(Variable):\n",
        "  pass\n",
        "\n",
        "\"\"\"\n",
        "Variable과 parameter 구분 어떻게함 ?\n",
        "isinstance 함수로 구분 가능\n",
        "\"\"\""
      ],
      "metadata": {
        "id": "46CfkxK4ADvZ"
      },
      "execution_count": null,
      "outputs": []
    },
    {
      "cell_type": "code",
      "source": [
        "import numpy as np\n",
        "from dezero import Variable, Parameter\n",
        "\n",
        "x = Variable(np.array(1.0))\n",
        "w = Parameter(np.array(2.0))\n",
        "b = x * w\n",
        "\n",
        "print(isinstance(x, Parameter))\n",
        "print(isinstance(w, Parameter))\n",
        "print(isinstance(b, Parameter))\n",
        "\n",
        "\"\"\"\n",
        "이런식으로 구분이 가능함\n",
        "\"\"\""
      ],
      "metadata": {
        "colab": {
          "base_uri": "https://localhost:8080/"
        },
        "id": "xYob5biqAMu0",
        "outputId": "844a8d98-d504-44bb-dcdd-929a40afb9d8"
      },
      "execution_count": null,
      "outputs": [
        {
          "output_type": "stream",
          "name": "stdout",
          "text": [
            "False\n",
            "True\n",
            "False\n"
          ]
        }
      ]
    },
    {
      "cell_type": "code",
      "source": [
        "from dezero.core import Parameter\n",
        "\n",
        "class Layer:\n"
      ],
      "metadata": {
        "id": "iwm1YxOIBH8S"
      },
      "execution_count": null,
      "outputs": []
    }
  ]
}