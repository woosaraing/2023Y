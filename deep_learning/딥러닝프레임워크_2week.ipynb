{
  "nbformat": 4,
  "nbformat_minor": 0,
  "metadata": {
    "colab": {
      "provenance": []
    },
    "kernelspec": {
      "name": "python3",
      "display_name": "Python 3"
    },
    "language_info": {
      "name": "python"
    }
  },
  "cells": [
    {
      "cell_type": "code",
      "execution_count": null,
      "metadata": {
        "id": "oBBZoR10M4-I"
      },
      "outputs": [],
      "source": [
        "import pandas as pd\n",
        "import numpy as np"
      ]
    },
    {
      "cell_type": "code",
      "source": [
        "# pip install pycham"
      ],
      "metadata": {
        "id": "apNkBuyKNV3X"
      },
      "execution_count": null,
      "outputs": []
    },
    {
      "cell_type": "markdown",
      "source": [
        "# 역전파\n",
        "- 하나의 학습 데이터에 대한 비용함수의 그레디언트를 계산함\n",
        "- 미분을 효율적으로 계산 O, 결과값의 오차가 적음\n",
        "- 손실값이 가장 적은 가중치를 지닌 노드를 학습함\n",
        "\n",
        "## 연쇄 법칙 (Chain rule)\n",
        "- 여러 함수를 사슬처럼 연결하여 사용\n",
        "- 합성함수의 미분은 구성 함수 각각을 미분한 후 곱한 값\n",
        "dx/dy = dy/db * db/da * da/dx (체인룰)\n",
        "\n",
        "  [강의자료 1주차 25p 참고]\n",
        "\n",
        "*역전파를 구하려면 순전파를 진행해야함 & 무한적 반복함 & Loss 값이 최대로 작아질 때까지"
      ],
      "metadata": {
        "id": "xgaACk_XHw8s"
      }
    },
    {
      "cell_type": "markdown",
      "source": [
        "# 수동 역전파\n",
        "- 목적 : Variable과 Function클래스를 확장하여 구현 & 역전파를 이용한 미분 구현\n",
        "- 하지만 수동 작업은 너무 귀찮기 때문에 자동화를 구현함\n"
      ],
      "metadata": {
        "id": "Jfjxp-WYPo5y"
      }
    },
    {
      "cell_type": "code",
      "source": [
        "class Variable:\n",
        "  def __init__(self,data):\n",
        "    self.data = data"
      ],
      "metadata": {
        "id": "GqGk2Py6TlbC"
      },
      "execution_count": null,
      "outputs": []
    },
    {
      "cell_type": "code",
      "source": [
        "data = np.array(1.0)\n",
        "x = Variable(data)\n",
        "\n",
        "print(x.data)\n",
        "print(x)\n",
        "x.data"
      ],
      "metadata": {
        "colab": {
          "base_uri": "https://localhost:8080/"
        },
        "id": "xL77VkZkVuHq",
        "outputId": "6c14825c-e4cf-4ec7-b90b-7c021cb65625"
      },
      "execution_count": null,
      "outputs": [
        {
          "output_type": "stream",
          "name": "stdout",
          "text": [
            "1.0\n",
            "<__main__.Variable object at 0x7fcafee138e0>\n"
          ]
        },
        {
          "output_type": "execute_result",
          "data": {
            "text/plain": [
              "array(1.)"
            ]
          },
          "metadata": {},
          "execution_count": 4
        }
      ]
    },
    {
      "cell_type": "code",
      "source": [
        "class Fuction:\n",
        "  def __call__(self, input):\n",
        "    x = input.data\n",
        "    y = x**2\n",
        "    output = Variable(y)\n",
        "    return output"
      ],
      "metadata": {
        "id": "Wu1_3SiHNgT4"
      },
      "execution_count": null,
      "outputs": []
    },
    {
      "cell_type": "code",
      "source": [
        "x = Variable(np.array(10))\n",
        "f = Fuction()\n",
        "y = f(x)\n",
        "\n",
        "print(type(y))\n",
        "print(y.data)"
      ],
      "metadata": {
        "colab": {
          "base_uri": "https://localhost:8080/"
        },
        "id": "wDaqfTXBfsq8",
        "outputId": "836f0744-5cb0-4e65-e162-1f16f06cd103"
      },
      "execution_count": null,
      "outputs": [
        {
          "output_type": "stream",
          "name": "stdout",
          "text": [
            "<class '__main__.Variable'>\n",
            "100\n"
          ]
        }
      ]
    },
    {
      "cell_type": "code",
      "source": [
        "class Function:\n",
        "  def __call__(self,input):\n",
        "    x = input.data\n",
        "    y = self.forward(x)\n",
        "    output = Variable(y)\n",
        "    return output\n",
        "\n",
        "  def forward(self, in_data):\n",
        "    raise NotImplementedError()\n",
        "\n",
        "class Square(Function):\n",
        "  def forward(self, x):\n",
        "    return x **2\n",
        "\n",
        "class Exp(Function):\n",
        "  def forward(self, x):\n",
        "    return np.exp(x)"
      ],
      "metadata": {
        "id": "dUaEdBlkgG2k"
      },
      "execution_count": null,
      "outputs": []
    },
    {
      "cell_type": "code",
      "source": [
        "def numerical_diff(f,x,eps=1e-4):\n",
        "  x0 = Variable(x.data - eps)\n",
        "  x1 = Variable(x.data + eps)\n",
        "  y0 = f(x0)\n",
        "  y1 = f(x1)\n",
        "  return (y1.data-y0.data) / (2*eps)\n",
        "\n",
        "f = Square()\n",
        "x = Variable(np.array(2))\n",
        "dy = numerical_diff(f,x)\n",
        "print(dy)"
      ],
      "metadata": {
        "colab": {
          "base_uri": "https://localhost:8080/"
        },
        "id": "df9XvVlggwN0",
        "outputId": "c614b27c-a50d-4c33-ca33-a6ecb70b9e2d"
      },
      "execution_count": null,
      "outputs": [
        {
          "output_type": "stream",
          "name": "stdout",
          "text": [
            "4.000000000004\n"
          ]
        }
      ]
    },
    {
      "cell_type": "code",
      "source": [
        "def f(x):\n",
        "  A = Square()\n",
        "  B = Exp()\n",
        "  C = Square()\n",
        "  return C(B(A(x)))\n",
        "\n",
        "x = Variable(np.array(0.5))\n",
        "dy = numerical_diff(f,x)\n",
        "print(dy)\n"
      ],
      "metadata": {
        "colab": {
          "base_uri": "https://localhost:8080/"
        },
        "id": "3DC-igrPhrwt",
        "outputId": "5dfe6059-cc5d-4847-a287-7c3f76d0f868"
      },
      "execution_count": null,
      "outputs": [
        {
          "output_type": "stream",
          "name": "stdout",
          "text": [
            "3.2974426293330694\n"
          ]
        }
      ]
    },
    {
      "cell_type": "code",
      "source": [
        "(x+e)^2 - (x-e)^2 / 2e\n",
        "\n"
      ],
      "metadata": {
        "id": "VbrpO4S2tT2A",
        "outputId": "5b1b2a80-b1fa-4e97-fab3-9d3de3cc7599",
        "colab": {
          "base_uri": "https://localhost:8080/",
          "height": 106
        }
      },
      "execution_count": null,
      "outputs": [
        {
          "output_type": "error",
          "ename": "SyntaxError",
          "evalue": "invalid decimal literal (<ipython-input-10-a21fbb0766d3>, line 1)",
          "traceback": [
            "\u001b[0;36m  File \u001b[0;32m\"<ipython-input-10-a21fbb0766d3>\"\u001b[0;36m, line \u001b[0;32m1\u001b[0m\n\u001b[0;31m    (x+e)^2 - (x-e)^2 / 2e\u001b[0m\n\u001b[0m                        ^\u001b[0m\n\u001b[0;31mSyntaxError\u001b[0m\u001b[0;31m:\u001b[0m invalid decimal literal\n"
          ]
        }
      ]
    },
    {
      "cell_type": "code",
      "source": [
        "# 기울기\n",
        "class Variable:\n",
        "  def __init__(self, data):\n",
        "    self.data = data\n",
        "    self.grad = None\n",
        "    self.creator = None\n",
        "\n",
        "  def set_creator(self, func):\n",
        "    self.creator = func\n",
        "\n",
        "  def backward(self):\n",
        "    # funcs = [self.creator]\n",
        "    # while funcs:\n",
        "    #   f = funcs.pop()\n",
        "    #   x, y = f.input, f.output\n",
        "    #   x.grad = f.backward(y.grad)\n",
        "\n",
        "    #   if x.creator is not None:\n",
        "    #     funcs.append(x.creator)\n",
        "    f = self.creator\n",
        "    if f is not None:\n",
        "      x = f.input\n",
        "      x.grad = f.backward(self.grad)\n",
        "      x.backward()\n",
        "\n",
        "class Function:\n",
        "  def __call__(self, input):\n",
        "    x = input.data\n",
        "    y = self.forward(x)\n",
        "    output = Variable(y)\n",
        "    self.input = input\n",
        "    return output\n",
        "\n",
        "  # 순전파\n",
        "  def forward(self, x):\n",
        "    raise NotImplementedError()\n",
        "\n",
        "  # 역전파\n",
        "  def backward(self, gy):\n",
        "    raise NotImplementedError()\n"
      ],
      "metadata": {
        "id": "a8ZnlBxGRg2A"
      },
      "execution_count": null,
      "outputs": []
    },
    {
      "cell_type": "code",
      "source": [
        "class Square(Function):\n",
        "  def forward(self, x):\n",
        "    y = x ** 2\n",
        "    return y\n",
        "\n",
        "  def backward(self, gy):\n",
        "    x = self.input.data\n",
        "    gx = 2 * x * gy\n",
        "    return gx\n",
        "\n",
        "class Exp(Function):\n",
        "  def forward(self, x):\n",
        "    return np.exp(x)\n",
        "\n",
        "  def backward(self, gy):\n",
        "    x = self.input.data\n",
        "    gx = np.exp(x) * gy\n",
        "    return gx"
      ],
      "metadata": {
        "id": "H8ugd_IQb1jP"
      },
      "execution_count": null,
      "outputs": []
    },
    {
      "cell_type": "code",
      "source": [
        "A = Square()\n",
        "B = Exp()\n",
        "C = Square()\n",
        "\n",
        "x = Variable(np.array(0.5))\n",
        "a = A(x)\n",
        "b = B(a)\n",
        "y = C(b)"
      ],
      "metadata": {
        "id": "x13b8v8DX4Yv"
      },
      "execution_count": null,
      "outputs": []
    },
    {
      "cell_type": "code",
      "source": [
        "y.grad = np.array(1.0)\n",
        "b.grad = C.backward(y.grad)\n",
        "a.grad = B.backward(b.grad)\n",
        "x. grad = A.backward(a.grad)\n",
        "print(x.grad)"
      ],
      "metadata": {
        "colab": {
          "base_uri": "https://localhost:8080/"
        },
        "id": "QrWay-GaaGN6",
        "outputId": "1b8a81ae-bafe-4aa9-89a9-a1f2bca2b0ac"
      },
      "execution_count": null,
      "outputs": [
        {
          "output_type": "stream",
          "name": "stdout",
          "text": [
            "3.297442541400256\n"
          ]
        }
      ]
    },
    {
      "cell_type": "markdown",
      "source": [
        "# 역전파 도전\n",
        "구조 : 함수 가져옴 -> 함수 입력을 가져옴 -> 함수 backward 호출"
      ],
      "metadata": {
        "id": "kLQH-NBfQgF0"
      }
    },
    {
      "cell_type": "code",
      "source": [
        "y.grad = np.array(1.0)\n",
        "\n",
        "C = y.creator\n",
        "b = C.input\n",
        "b.grad = C.backward(b.grad)\n",
        "\n",
        "B = b.creator\n",
        "a = B.input\n",
        "a.grad = B.backward(b.grad)\n",
        "\n",
        "A = a.creator\n",
        "x = A.input\n",
        "x.grad = A.backward(a.grad)\n",
        "print(x.grad)"
      ],
      "metadata": {
        "id": "niu6OhteoGdO",
        "colab": {
          "base_uri": "https://localhost:8080/",
          "height": 211
        },
        "outputId": "7224a634-1654-49f9-de64-325f7c2615a1"
      },
      "execution_count": null,
      "outputs": [
        {
          "output_type": "error",
          "ename": "AttributeError",
          "evalue": "'NoneType' object has no attribute 'input'",
          "traceback": [
            "\u001b[0;31m---------------------------------------------------------------------------\u001b[0m",
            "\u001b[0;31mAttributeError\u001b[0m                            Traceback (most recent call last)",
            "\u001b[0;32m<ipython-input-24-b0eee830221f>\u001b[0m in \u001b[0;36m<cell line: 4>\u001b[0;34m()\u001b[0m\n\u001b[1;32m      2\u001b[0m \u001b[0;34m\u001b[0m\u001b[0m\n\u001b[1;32m      3\u001b[0m \u001b[0mC\u001b[0m \u001b[0;34m=\u001b[0m \u001b[0my\u001b[0m\u001b[0;34m.\u001b[0m\u001b[0mcreator\u001b[0m\u001b[0;34m\u001b[0m\u001b[0;34m\u001b[0m\u001b[0m\n\u001b[0;32m----> 4\u001b[0;31m \u001b[0mb\u001b[0m \u001b[0;34m=\u001b[0m \u001b[0mC\u001b[0m\u001b[0;34m.\u001b[0m\u001b[0minput\u001b[0m\u001b[0;34m\u001b[0m\u001b[0;34m\u001b[0m\u001b[0m\n\u001b[0m\u001b[1;32m      5\u001b[0m \u001b[0mb\u001b[0m\u001b[0;34m.\u001b[0m\u001b[0mgrad\u001b[0m \u001b[0;34m=\u001b[0m \u001b[0mC\u001b[0m\u001b[0;34m.\u001b[0m\u001b[0mbackward\u001b[0m\u001b[0;34m(\u001b[0m\u001b[0mb\u001b[0m\u001b[0;34m.\u001b[0m\u001b[0mgrad\u001b[0m\u001b[0;34m)\u001b[0m\u001b[0;34m\u001b[0m\u001b[0;34m\u001b[0m\u001b[0m\n\u001b[1;32m      6\u001b[0m \u001b[0;34m\u001b[0m\u001b[0m\n",
            "\u001b[0;31mAttributeError\u001b[0m: 'NoneType' object has no attribute 'input'"
          ]
        }
      ]
    }
  ]
}